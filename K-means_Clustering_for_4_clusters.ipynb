{
 "cells": [
  {
   "cell_type": "code",
   "execution_count": 2,
   "metadata": {
    "collapsed": false
   },
   "outputs": [
    {
     "name": "stdout",
     "output_type": "stream",
     "text": [
      "Enter the number of clusters.......4\n",
      "\n",
      "\n",
      "Number of clusters to be formed are 4\n"
     ]
    }
   ],
   "source": [
    "import numpy as np\n",
    "import pandas as pd\n",
    "a = list(np.random.randn(20))\n",
    "b = list(np.random.randn(20))\n",
    "c = list(np.random.randn(20))\n",
    "\n",
    "dt = {'col1': list(np.random.randn(20)),'col2':list(np.random.randn(20)),'col3':list(np.random.randn(20))}\n",
    "dt_f = pd.DataFrame(dt,columns = ['col1','col2','col3'])\n",
    "\n",
    "dt_f.columns = ['A','B','C']\n",
    "\n",
    "k = int(input('Enter the number of clusters.......'))\n",
    "print('\\n')\n",
    "print('Number of clusters to be formed are {}'.format(k))\n",
    "means = dt_f.sample(n=k)\n",
    "df = dt_f[~dt_f.isin(means)].dropna()\n",
    "arr_means = np.array(means)\n",
    "l = len(df)\n",
    "def Kmeans(iter_means,num):\n",
    "    dist_list = []\n",
    "    clusters = []\n",
    "    merged_dt = pd.DataFrame()\n",
    "    for i in range(num):\n",
    "        diff = df-iter_means[i]\n",
    "        sq = diff**2\n",
    "        sum_sq = np.sum(sq,axis = 1)\n",
    "        dist = np.sqrt(sum_sq)\n",
    "        dist_list.append(dist)\n",
    "        clusters.append([iter_means[i]])\n",
    "        merged_dt = pd.concat([merged_dt,dist_list[i]],axis = 1)\n",
    "    merged_dt.columns = [0,1,2,3]\n",
    "    min_dist = np.min(merged_dt,axis = 1)\n",
    "    colindex = merged_dt.columns.where(merged_dt.isin(min_dist))\n",
    "    cluster_num = colindex.dropna()\n",
    "    cluster_num = cluster_num.astype(int)\n",
    "    return cluster_num,clusters\n",
    " \n",
    "clusternum,act_clusters = Kmeans(arr_means,k)\n",
    "\n",
    "def means_rev(s,index_list,clust):\n",
    "    for i in range(s):\n",
    "        if(index_list[i] == 0):\n",
    "            clust[0].append(df.iloc[i])\n",
    "        elif(index_list[i] == 1):\n",
    "            clust[1].append(df.iloc[i])\n",
    "        elif(index_list[i] == 2):\n",
    "            clust[2].append(df.iloc[i])\n",
    "        else:\n",
    "            clust[3].append(df.iloc[i])\n",
    "    Rev_means = list(map(lambda x:np.mean(x,axis = 0),clust))\n",
    "    return Rev_means\n",
    "\n",
    "revised_means = means_rev(l,clusternum,act_clusters)"
   ]
  },
  {
   "cell_type": "code",
   "execution_count": 3,
   "metadata": {
    "collapsed": false
   },
   "outputs": [
    {
     "data": {
      "text/plain": [
       "Int64Index([2, 1, 2, 1, 2, 0, 0, 1, 2, 2, 0, 2, 1, 1, 1, 0], dtype='int64')"
      ]
     },
     "execution_count": 3,
     "metadata": {},
     "output_type": "execute_result"
    }
   ],
   "source": [
    "clusternum"
   ]
  },
  {
   "cell_type": "code",
   "execution_count": 4,
   "metadata": {
    "collapsed": false
   },
   "outputs": [
    {
     "data": {
      "text/plain": [
       "[array([ 0.78835179,  0.69120042, -1.61384723]),\n",
       " array([-0.54280199, -0.81965037, -0.14285733]),\n",
       " array([ 0.31786026, -0.0492523 ,  0.4868521 ]),\n",
       " array([ 1.83494985, -1.47491466,  0.11360485])]"
      ]
     },
     "execution_count": 4,
     "metadata": {},
     "output_type": "execute_result"
    }
   ],
   "source": [
    "revised_means"
   ]
  }
 ],
 "metadata": {
  "kernelspec": {
   "display_name": "Python 3",
   "language": "python",
   "name": "python3"
  },
  "language_info": {
   "codemirror_mode": {
    "name": "ipython",
    "version": 3
   },
   "file_extension": ".py",
   "mimetype": "text/x-python",
   "name": "python",
   "nbconvert_exporter": "python",
   "pygments_lexer": "ipython3",
   "version": "3.6.0"
  }
 },
 "nbformat": 4,
 "nbformat_minor": 2
}
